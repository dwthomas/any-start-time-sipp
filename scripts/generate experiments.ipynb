{
 "cells": [
  {
   "cell_type": "code",
   "execution_count": 1,
   "id": "2166f401",
   "metadata": {},
   "outputs": [],
   "source": [
    "from glob import glob\n",
    "import numpy as np\n",
    "from structs import read_map\n",
    "import subprocess\n",
    "import pandas as pd\n",
    "import os"
   ]
  },
  {
   "cell_type": "code",
   "execution_count": 45,
   "id": "e928c3dc",
   "metadata": {},
   "outputs": [],
   "source": [
    "try:\n",
    "    #os.mkdir(\"obs/\")\n",
    "    #os.mkdir(\"obs/rooms/\")\n",
    "    os.mkdir(\"obs/random/\")\n",
    "except:\n",
    "    pass"
   ]
  },
  {
   "cell_type": "code",
   "execution_count": 50,
   "id": "5463b664",
   "metadata": {},
   "outputs": [],
   "source": [
    "!mkdir obs/dao/"
   ]
  },
  {
   "cell_type": "code",
   "execution_count": 47,
   "id": "863b2e83",
   "metadata": {},
   "outputs": [],
   "source": [
    "map_sources = [\n",
    "    #\"../../hog2/maps/rooms/32room_*.map\",\n",
    "    #\"../../hog2/maps/random/random512*.map\",\n",
    "    #\"../../hog2/maps/mazes/maze512*.map\"\n",
    "]\n",
    "\n",
    "def mapn_to_obsn(filepath):\n",
    "    return filepath.replace(\"../../hog2/maps/\", \"obs/\").replace(\".map\", \"*.obs\")\n",
    "    "
   ]
  },
  {
   "cell_type": "code",
   "execution_count": 2,
   "id": "fa75c2fa",
   "metadata": {},
   "outputs": [],
   "source": [
    "maps = [\n",
    "    \"../../hog2/maps/rooms/32room_004.map\",\n",
    "    \"../../hog2/maps/random/random512-20-1.map\",\n",
    "    \"../../hog2/maps/dao/den520d.map\"\n",
    "]\n",
    "scen = {\n",
    "    \"../../hog2/maps/rooms/32room_004.map\": \"../../hog2/scenarios/rooms/32room_004.map.scen\" ,\n",
    "    \"../../hog2/maps/random/random512-20-1.map\": \"../../hog2/scenarios/random/random512-20-1.map.scen\",\n",
    "    \"../../hog2/maps/dao/den520d.map\": \"../../hog2/scenarios/dao/den520d.map.scen\"\n",
    "}\n",
    "  \n",
    "#for source in map_sources:\n",
    "#    maps += glob(source)"
   ]
  },
  {
   "cell_type": "code",
   "execution_count": 51,
   "id": "0b315ae7",
   "metadata": {},
   "outputs": [
    {
     "name": "stdout",
     "output_type": "stream",
     "text": [
      "../../hog2/maps/rooms/32room_004.map 0\n",
      "../../hog2/maps/rooms/32room_004.map 1\n",
      "../../hog2/maps/rooms/32room_004.map 2\n",
      "../../hog2/maps/rooms/32room_004.map 3\n",
      "../../hog2/maps/rooms/32room_004.map 4\n",
      "../../hog2/maps/rooms/32room_004.map 5\n",
      "../../hog2/maps/rooms/32room_004.map 6\n",
      "../../hog2/maps/rooms/32room_004.map 7\n",
      "../../hog2/maps/rooms/32room_004.map 8\n",
      "../../hog2/maps/rooms/32room_004.map 9\n",
      "../../hog2/maps/rooms/32room_004.map 10\n",
      "../../hog2/maps/rooms/32room_004.map 11\n",
      "../../hog2/maps/rooms/32room_004.map 12\n",
      "../../hog2/maps/rooms/32room_004.map 13\n",
      "../../hog2/maps/rooms/32room_004.map 14\n",
      "../../hog2/maps/rooms/32room_004.map 15\n",
      "../../hog2/maps/random/random512-20-1.map 0\n",
      "../../hog2/maps/random/random512-20-1.map 1\n",
      "../../hog2/maps/random/random512-20-1.map 2\n",
      "../../hog2/maps/random/random512-20-1.map 3\n",
      "../../hog2/maps/random/random512-20-1.map 4\n",
      "../../hog2/maps/random/random512-20-1.map 5\n",
      "../../hog2/maps/random/random512-20-1.map 6\n",
      "../../hog2/maps/random/random512-20-1.map 7\n",
      "../../hog2/maps/random/random512-20-1.map 8\n",
      "../../hog2/maps/random/random512-20-1.map 9\n",
      "../../hog2/maps/random/random512-20-1.map 10\n",
      "../../hog2/maps/random/random512-20-1.map 11\n",
      "../../hog2/maps/random/random512-20-1.map 12\n",
      "../../hog2/maps/random/random512-20-1.map 13\n",
      "../../hog2/maps/random/random512-20-1.map 14\n",
      "../../hog2/maps/random/random512-20-1.map 15\n",
      "../../hog2/maps/dao/den520d.map 0\n",
      "../../hog2/maps/dao/den520d.map 1\n",
      "../../hog2/maps/dao/den520d.map 2\n",
      "../../hog2/maps/dao/den520d.map 3\n",
      "../../hog2/maps/dao/den520d.map 4\n",
      "../../hog2/maps/dao/den520d.map 5\n",
      "../../hog2/maps/dao/den520d.map 6\n",
      "../../hog2/maps/dao/den520d.map 7\n",
      "../../hog2/maps/dao/den520d.map 8\n",
      "../../hog2/maps/dao/den520d.map 9\n",
      "../../hog2/maps/dao/den520d.map 10\n",
      "../../hog2/maps/dao/den520d.map 11\n",
      "../../hog2/maps/dao/den520d.map 12\n",
      "../../hog2/maps/dao/den520d.map 13\n",
      "../../hog2/maps/dao/den520d.map 14\n",
      "../../hog2/maps/dao/den520d.map 15\n"
     ]
    }
   ],
   "source": [
    "for m in maps:\n",
    "    for n in range(16):\n",
    "        print(m, n)\n",
    "        outfname = m.replace(\"../../hog2/maps/\", \"obs/\").replace(\".map\", \"_16384_\" + str(n) + \".obs\")\n",
    "        if not os.path.exists(outfname) or True:\n",
    "            command = [\n",
    "                \"./genobs.py\", m, \"16384\", \"1\", outfname\n",
    "            ]\n",
    "            subprocess.run(command)\n",
    "            for i in [\"0\", \"4\", \"16\", \"64\", \"256\", \"1024\", \"4096\"]:\n",
    "                command = \"head -\" + i + \" \" + outfname + \" > \" + outfname.replace(\"_16384_\", \"_\" + i + \"_\")\n",
    "                subprocess.run(command, shell = True)"
   ]
  },
  {
   "cell_type": "code",
   "execution_count": 78,
   "id": "336c28f5",
   "metadata": {},
   "outputs": [
    {
     "name": "stdout",
     "output_type": "stream",
     "text": [
      "0\n",
      "1\n",
      "2\n",
      "3\n",
      "4\n",
      "5\n",
      "6\n",
      "7\n",
      "8\n",
      "9\n",
      "10\n",
      "11\n",
      "12\n",
      "13\n",
      "14\n",
      "15\n",
      "0\n",
      "1\n",
      "2\n",
      "3\n",
      "4\n",
      "5\n",
      "6\n",
      "7\n",
      "8\n",
      "9\n",
      "10\n",
      "11\n",
      "12\n",
      "13\n",
      "14\n",
      "15\n",
      "0\n",
      "1\n",
      "2\n",
      "3\n",
      "4\n",
      "5\n",
      "6\n",
      "7\n",
      "8\n",
      "9\n",
      "10\n",
      "11\n",
      "12\n",
      "13\n",
      "14\n",
      "15\n"
     ]
    }
   ],
   "source": [
    "with open(\"new_partial_commands.run\", \"wt\") as comf:\n",
    "    allendt = \"5000\"\n",
    "    for m in maps: \n",
    "        grid = read_map(m)\n",
    "        s = scen[m]\n",
    "        scenarios = pd.read_csv(s, sep = \"\\t\",index_col = 0, comment = \"v\", names = [\"Bucket\",\"map\",\"map width\",\"map height\",\"start x-coordinate\",\"start y-coordinate\",\"goal x-coordinate\",\"goal y-coordinate\",\"optimal length\"])\n",
    "        scenarios = scenarios.sort_values(\"optimal length\", ascending = False)\n",
    "        for i in range(16):\n",
    "            print(i)\n",
    "            scenario = scenarios.iloc[i]\n",
    "            for obs in glob(mapn_to_obsn(m)):\n",
    "                if (\"1024\" not in obs):\n",
    "                    continue\n",
    "                for search in [\"partialpdap\"]:\n",
    "                    command = [\"../build_release/pdap\",\n",
    "                               \"--search \" + search,\n",
    "                               \"--obstacles \" + obs,\n",
    "                               \"--map \" + m,\n",
    "                               \"--startx \" + str(scenario[\"start x-coordinate\"]),\n",
    "                               \"--starty \" + str(scenario[\"start y-coordinate\"]),\n",
    "                               \"--goalx \" + str(scenario[\"goal x-coordinate\"]),\n",
    "                               \"--goaly \" + str(scenario[\"goal y-coordinate\"]),\n",
    "                               \"--startt 0\",\n",
    "                               \"--startendt 10\",\n",
    "                               \"--maxquery\",\n",
    "                               \"--allendt\", allendt,\n",
    "                               \" > \" + \"results/\" + \"_\".join([search, obs.split(\"/\")[-1], m.split(\"/\")[-1],\n",
    "                                                 str(scenario[\"start x-coordinate\"]),  str(scenario[\"start y-coordinate\"]),\n",
    "                                                              str(scenario[\"goal x-coordinate\"]), str(scenario[\"goal y-coordinate\"]), \n",
    "                                                 allendt, \".res\"])\n",
    "                              ]\n",
    "                    print(\" \".join(command), file = comf)\n",
    "    \n",
    "    "
   ]
  },
  {
   "cell_type": "code",
   "execution_count": 79,
   "id": "64637521",
   "metadata": {},
   "outputs": [
    {
     "name": "stdout",
     "output_type": "stream",
     "text": [
      "   9216  211968 2635008 new_commands.run\r\n"
     ]
    }
   ],
   "source": [
    "!wc new_commands.run"
   ]
  },
  {
   "cell_type": "code",
   "execution_count": 75,
   "id": "867f91e7",
   "metadata": {},
   "outputs": [
    {
     "data": {
      "text/plain": [
       "'obs/dao/den520d_1024_2.obs'"
      ]
     },
     "execution_count": 75,
     "metadata": {},
     "output_type": "execute_result"
    }
   ],
   "source": [
    "obs"
   ]
  },
  {
   "cell_type": "code",
   "execution_count": null,
   "id": "a8e77201",
   "metadata": {},
   "outputs": [],
   "source": []
  },
  {
   "cell_type": "code",
   "execution_count": null,
   "id": "d41e5299",
   "metadata": {},
   "outputs": [],
   "source": []
  }
 ],
 "metadata": {
  "kernelspec": {
   "display_name": "Python 3 (ipykernel)",
   "language": "python",
   "name": "python3"
  },
  "language_info": {
   "codemirror_mode": {
    "name": "ipython",
    "version": 3
   },
   "file_extension": ".py",
   "mimetype": "text/x-python",
   "name": "python",
   "nbconvert_exporter": "python",
   "pygments_lexer": "ipython3",
   "version": "3.7.13"
  }
 },
 "nbformat": 4,
 "nbformat_minor": 5
}
