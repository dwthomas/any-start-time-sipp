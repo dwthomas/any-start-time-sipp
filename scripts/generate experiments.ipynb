{
 "cells": [
  {
   "cell_type": "code",
   "execution_count": 30,
   "id": "2166f401",
   "metadata": {},
   "outputs": [],
   "source": [
    "from glob import glob\n",
    "import numpy as np\n",
    "from structs import read_map\n",
    "import subprocess\n",
    "import os"
   ]
  },
  {
   "cell_type": "code",
   "execution_count": 31,
   "id": "e928c3dc",
   "metadata": {},
   "outputs": [],
   "source": [
    "try:\n",
    "    os.mkdir(\"obs/\")\n",
    "    os.mkdir(\"obs/rooms/\")\n",
    "    os.mkdir(\"obs/random/\")\n",
    "    os.mkdir(\"obs/mazes/\")\n",
    "except:\n",
    "    pass"
   ]
  },
  {
   "cell_type": "code",
   "execution_count": null,
   "id": "5463b664",
   "metadata": {},
   "outputs": [],
   "source": []
  },
  {
   "cell_type": "code",
   "execution_count": 25,
   "id": "863b2e83",
   "metadata": {},
   "outputs": [],
   "source": [
    "map_sources = [\n",
    "    \"../../hog2/maps/rooms/32room_*.map\",\n",
    "    #\"../../hog2/maps/random/random512*.map\",\n",
    "    #\"../../hog2/maps/mazes/maze512*.map\"\n",
    "]\n",
    "\n",
    "def mapn_to_obsn(filepath):\n",
    "    return filepath.replace(\"../../hog2/maps/\", \"obs/\").replace(\".map\", \"*.obs\")\n",
    "    "
   ]
  },
  {
   "cell_type": "code",
   "execution_count": 18,
   "id": "fa75c2fa",
   "metadata": {},
   "outputs": [],
   "source": [
    "maps = []\n",
    "for source in map_sources:\n",
    "    maps += glob(source)"
   ]
  },
  {
   "cell_type": "code",
   "execution_count": 36,
   "id": "0b315ae7",
   "metadata": {},
   "outputs": [],
   "source": [
    "for m in maps:\n",
    "    outfname = m.replace(\"../../hog2/maps/\", \"obs/\").replace(\".map\", \"_1000.obs\")\n",
    "    if not os.path.exists(outfname) or True:\n",
    "        command = [\n",
    "            \"./genobs.py\", m, \"1000\", \"1\", outfname\n",
    "        ]\n",
    "        subprocess.run(command)\n",
    "        for i in [\"0\", \"10\", \"100\"]:\n",
    "            command = \"head -\" + i + \" \" + outfname + \" > \" + outfname.replace(\"_1000.obs\", \"_\" + i + \".obs\")\n",
    "            subprocess.run(command, shell = True)"
   ]
  },
  {
   "cell_type": "code",
   "execution_count": 42,
   "id": "336c28f5",
   "metadata": {},
   "outputs": [],
   "source": [
    "with open(\"commands.run\", \"wt\") as comf:\n",
    "    allendt = \"5000\"\n",
    "    for m in maps:\n",
    "        grid = read_map(m)\n",
    "        for i in range(0, 512):\n",
    "            if grid.occupancy[i,i] == 0:\n",
    "                start_loc = (str(i), str(i))\n",
    "                break\n",
    "        for i in range(511, -1, -1):\n",
    "            if grid.occupancy[i,i] == 0:\n",
    "                goal_loc = (str(i), str(i))\n",
    "                break\n",
    "        for obs in glob(mapn_to_obsn(m)):\n",
    "            for search in [\"sipp\",\"pdap\"]:\n",
    "                command = [\"../build_release/pdap\",\n",
    "                           \"--search \" + search,\n",
    "                           \"--obstacles \" + obs,\n",
    "                           \"--map \" + m,\n",
    "                           \"--startx \" + start_loc[0],\n",
    "                           \"--starty \" + start_loc[1],\n",
    "                           \"--goalx \" + goal_loc[0],\n",
    "                           \"--goaly \" + goal_loc[1],\n",
    "                           \"--startt 0\",\n",
    "                           \"--allendt\", allendt,\n",
    "                           \" > \" + \"results/\" + \"_\".join([search, obs.split(\"/\")[-1], m.split(\"/\")[-1],\n",
    "                                             start_loc[0], start_loc[1], goal_loc[0], goal_loc[1], \n",
    "                                             allendt, \".res\"])\n",
    "                          ]\n",
    "                print(\" \".join(command), file = comf)\n",
    "    \n",
    "    "
   ]
  },
  {
   "cell_type": "code",
   "execution_count": 39,
   "id": "64637521",
   "metadata": {},
   "outputs": [
    {
     "data": {
      "text/plain": [
       "'head -100 obs/mazes/maze512-32-6_1000.obs > obs/mazes/maze512-32-6_100.obs'"
      ]
     },
     "execution_count": 39,
     "metadata": {},
     "output_type": "execute_result"
    }
   ],
   "source": [
    "command"
   ]
  },
  {
   "cell_type": "code",
   "execution_count": null,
   "id": "867f91e7",
   "metadata": {},
   "outputs": [],
   "source": []
  }
 ],
 "metadata": {
  "kernelspec": {
   "display_name": "Python 3 (ipykernel)",
   "language": "python",
   "name": "python3"
  },
  "language_info": {
   "codemirror_mode": {
    "name": "ipython",
    "version": 3
   },
   "file_extension": ".py",
   "mimetype": "text/x-python",
   "name": "python",
   "nbconvert_exporter": "python",
   "pygments_lexer": "ipython3",
   "version": "3.7.13"
  }
 },
 "nbformat": 4,
 "nbformat_minor": 5
}
